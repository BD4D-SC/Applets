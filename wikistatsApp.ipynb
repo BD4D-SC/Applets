{
 "cells": [
  {
   "cell_type": "markdown",
   "metadata": {},
   "source": [
    "# Applets for wikistat\n",
    "\n",
    "We provide here several applets for a pedagogical purpose. The applets aim at giving an intuition of a statistical method by focusing on its main *principle*. Thus, they often consider simplified situations, contrarily to the courses of Wikistat, which go deeper into details, or to the notebooks on real case studies. \n",
    "\n",
    "We hope that they will be a good complementary tool for learning. Play and enjoy!"
   ]
  },
  {
   "cell_type": "markdown",
   "metadata": {},
   "source": [
    "## Overview\n",
    "\n",
    "To run the applets, go to the next sections. To stop an applet and run another one, first interrupt the R kernel. \n",
    "\n",
    "* *Principal component analysis*. Illustrates the diagonalization of the covariance matrix on a 2D Gaussian sample.\n",
    "* *Linear discriminant analysis*. Illustrates both exploratory / prediction aspects on classes drawn from a 2D homoscedastic Gaussian mixture. Useful to understand the role of the Mahalanobis metric (*data sphering*)."
   ]
  },
  {
   "cell_type": "markdown",
   "metadata": {},
   "source": [
    "### Principal component analysis"
   ]
  },
  {
   "cell_type": "code",
   "execution_count": 4,
   "metadata": {},
   "outputs": [
    {
     "name": "stderr",
     "output_type": "stream",
     "text": [
      "\n",
      "Listening on http://127.0.0.1:4581\n"
     ]
    }
   ],
   "source": [
    "library(shiny)\n",
    "library(MASS)\n",
    "runApp(appDir = \"PCA-App\")"
   ]
  },
  {
   "cell_type": "markdown",
   "metadata": {},
   "source": [
    "### Linear discriminant analysis"
   ]
  },
  {
   "cell_type": "code",
   "execution_count": 5,
   "metadata": {},
   "outputs": [
    {
     "name": "stderr",
     "output_type": "stream",
     "text": [
      "\n",
      "Listening on http://127.0.0.1:4581\n",
      "\n",
      "     PLEASE NOTE:  The components \"delsgs\" and \"summary\" of the\n",
      " object returned by deldir() are now DATA FRAMES rather than\n",
      " matrices (as they were prior to release 0.0-18).\n",
      " See help(\"deldir\").\n",
      " \n",
      "     PLEASE NOTE: The process that deldir() uses for determining\n",
      " duplicated points has changed from that used in version\n",
      " 0.0-9 of this package (and previously). See help(\"deldir\").\n",
      "\n",
      "\n"
     ]
    }
   ],
   "source": [
    "library(shiny)\n",
    "library(MASS)\n",
    "library(deldir)\n",
    "runApp(appDir = \"LDA-App\")"
   ]
  }
 ],
 "metadata": {
  "kernelspec": {
   "display_name": "R",
   "language": "R",
   "name": "ir"
  },
  "language_info": {
   "codemirror_mode": "r",
   "file_extension": ".r",
   "mimetype": "text/x-r-source",
   "name": "R",
   "pygments_lexer": "r",
   "version": "3.6.1"
  }
 },
 "nbformat": 4,
 "nbformat_minor": 2
}
